{
 "cells": [
  {
   "cell_type": "code",
   "execution_count": 179,
   "id": "59325efd",
   "metadata": {},
   "outputs": [],
   "source": [
    "from keras.preprocessing.image import ImageDataGenerator"
   ]
  },
  {
   "cell_type": "markdown",
   "id": "bb999ea0",
   "metadata": {},
   "source": [
    "## Load Data"
   ]
  },
  {
   "cell_type": "code",
   "execution_count": 180,
   "id": "03e1315c",
   "metadata": {},
   "outputs": [
    {
     "name": "stdout",
     "output_type": "stream",
     "text": [
      "Found 28709 images belonging to 7 classes.\n",
      "Found 7178 images belonging to 7 classes.\n"
     ]
    }
   ],
   "source": [
    "batch_size=32\n",
    "\n",
    "train_datagen=ImageDataGenerator(\n",
    "    rescale=1/255,\n",
    "    rotation_range=30,\n",
    "    shear_range=0.2,\n",
    "    zoom_range=0.2,\n",
    "    horizontal_flip=True,\n",
    "    fill_mode='nearest'\n",
    "    )\n",
    "test_datagen=ImageDataGenerator(rescale=1/255)\n",
    "train_generator=train_datagen.flow_from_directory(\n",
    "    'train',\n",
    "    target_size=(48,48),\n",
    "    batch_size=batch_size,\n",
    "    class_mode='categorical',\n",
    "    shuffle=True)\n",
    "\n",
    "validation_generator=test_datagen.flow_from_directory(\n",
    "    'test',\n",
    "    target_size=(48,48),\n",
    "    batch_size=batch_size,\n",
    "    class_mode='categorical',\n",
    "    shuffle=True)"
   ]
  },
  {
   "cell_type": "markdown",
   "id": "f62b8b1f",
   "metadata": {},
   "source": [
    "## Transfer Learning using VGG"
   ]
  },
  {
   "cell_type": "code",
   "execution_count": 181,
   "id": "943666eb",
   "metadata": {},
   "outputs": [],
   "source": [
    "from keras.applications.vgg16 import VGG16"
   ]
  },
  {
   "cell_type": "code",
   "execution_count": 182,
   "id": "7a4b9874",
   "metadata": {},
   "outputs": [],
   "source": [
    "vgg=VGG16(include_top=False,input_shape=(48,48,3))"
   ]
  },
  {
   "cell_type": "code",
   "execution_count": 183,
   "id": "e06751b5",
   "metadata": {},
   "outputs": [
    {
     "name": "stdout",
     "output_type": "stream",
     "text": [
      "Model: \"vgg16\"\n",
      "_________________________________________________________________\n",
      " Layer (type)                Output Shape              Param #   \n",
      "=================================================================\n",
      " input_5 (InputLayer)        [(None, 48, 48, 3)]       0         \n",
      "                                                                 \n",
      " block1_conv1 (Conv2D)       (None, 48, 48, 64)        1792      \n",
      "                                                                 \n",
      " block1_conv2 (Conv2D)       (None, 48, 48, 64)        36928     \n",
      "                                                                 \n",
      " block1_pool (MaxPooling2D)  (None, 24, 24, 64)        0         \n",
      "                                                                 \n",
      " block2_conv1 (Conv2D)       (None, 24, 24, 128)       73856     \n",
      "                                                                 \n",
      " block2_conv2 (Conv2D)       (None, 24, 24, 128)       147584    \n",
      "                                                                 \n",
      " block2_pool (MaxPooling2D)  (None, 12, 12, 128)       0         \n",
      "                                                                 \n",
      " block3_conv1 (Conv2D)       (None, 12, 12, 256)       295168    \n",
      "                                                                 \n",
      " block3_conv2 (Conv2D)       (None, 12, 12, 256)       590080    \n",
      "                                                                 \n",
      " block3_conv3 (Conv2D)       (None, 12, 12, 256)       590080    \n",
      "                                                                 \n",
      " block3_pool (MaxPooling2D)  (None, 6, 6, 256)         0         \n",
      "                                                                 \n",
      " block4_conv1 (Conv2D)       (None, 6, 6, 512)         1180160   \n",
      "                                                                 \n",
      " block4_conv2 (Conv2D)       (None, 6, 6, 512)         2359808   \n",
      "                                                                 \n",
      " block4_conv3 (Conv2D)       (None, 6, 6, 512)         2359808   \n",
      "                                                                 \n",
      " block4_pool (MaxPooling2D)  (None, 3, 3, 512)         0         \n",
      "                                                                 \n",
      " block5_conv1 (Conv2D)       (None, 3, 3, 512)         2359808   \n",
      "                                                                 \n",
      " block5_conv2 (Conv2D)       (None, 3, 3, 512)         2359808   \n",
      "                                                                 \n",
      " block5_conv3 (Conv2D)       (None, 3, 3, 512)         2359808   \n",
      "                                                                 \n",
      " block5_pool (MaxPooling2D)  (None, 1, 1, 512)         0         \n",
      "                                                                 \n",
      "=================================================================\n",
      "Total params: 14,714,688\n",
      "Trainable params: 14,714,688\n",
      "Non-trainable params: 0\n",
      "_________________________________________________________________\n"
     ]
    }
   ],
   "source": [
    "vgg.summary()"
   ]
  },
  {
   "cell_type": "code",
   "execution_count": 184,
   "id": "d3c84baf",
   "metadata": {},
   "outputs": [],
   "source": [
    "from keras import Sequential"
   ]
  },
  {
   "cell_type": "code",
   "execution_count": 185,
   "id": "a46e4aee",
   "metadata": {},
   "outputs": [],
   "source": [
    "model=Sequential()"
   ]
  },
  {
   "cell_type": "code",
   "execution_count": 186,
   "id": "0f273c30",
   "metadata": {},
   "outputs": [],
   "source": [
    "for layer in vgg.layers:\n",
    "    model.add(layer)"
   ]
  },
  {
   "cell_type": "code",
   "execution_count": 187,
   "id": "6b31deba",
   "metadata": {},
   "outputs": [],
   "source": [
    "for layer in model.layers:\n",
    "    layer.trainable=False"
   ]
  },
  {
   "cell_type": "code",
   "execution_count": 188,
   "id": "2374c0f7",
   "metadata": {},
   "outputs": [
    {
     "name": "stdout",
     "output_type": "stream",
     "text": [
      "Model: \"sequential_8\"\n",
      "_________________________________________________________________\n",
      " Layer (type)                Output Shape              Param #   \n",
      "=================================================================\n",
      " block1_conv1 (Conv2D)       (None, 48, 48, 64)        1792      \n",
      "                                                                 \n",
      " block1_conv2 (Conv2D)       (None, 48, 48, 64)        36928     \n",
      "                                                                 \n",
      " block1_pool (MaxPooling2D)  (None, 24, 24, 64)        0         \n",
      "                                                                 \n",
      " block2_conv1 (Conv2D)       (None, 24, 24, 128)       73856     \n",
      "                                                                 \n",
      " block2_conv2 (Conv2D)       (None, 24, 24, 128)       147584    \n",
      "                                                                 \n",
      " block2_pool (MaxPooling2D)  (None, 12, 12, 128)       0         \n",
      "                                                                 \n",
      " block3_conv1 (Conv2D)       (None, 12, 12, 256)       295168    \n",
      "                                                                 \n",
      " block3_conv2 (Conv2D)       (None, 12, 12, 256)       590080    \n",
      "                                                                 \n",
      " block3_conv3 (Conv2D)       (None, 12, 12, 256)       590080    \n",
      "                                                                 \n",
      " block3_pool (MaxPooling2D)  (None, 6, 6, 256)         0         \n",
      "                                                                 \n",
      " block4_conv1 (Conv2D)       (None, 6, 6, 512)         1180160   \n",
      "                                                                 \n",
      " block4_conv2 (Conv2D)       (None, 6, 6, 512)         2359808   \n",
      "                                                                 \n",
      " block4_conv3 (Conv2D)       (None, 6, 6, 512)         2359808   \n",
      "                                                                 \n",
      " block4_pool (MaxPooling2D)  (None, 3, 3, 512)         0         \n",
      "                                                                 \n",
      " block5_conv1 (Conv2D)       (None, 3, 3, 512)         2359808   \n",
      "                                                                 \n",
      " block5_conv2 (Conv2D)       (None, 3, 3, 512)         2359808   \n",
      "                                                                 \n",
      " block5_conv3 (Conv2D)       (None, 3, 3, 512)         2359808   \n",
      "                                                                 \n",
      " block5_pool (MaxPooling2D)  (None, 1, 1, 512)         0         \n",
      "                                                                 \n",
      "=================================================================\n",
      "Total params: 14,714,688\n",
      "Trainable params: 0\n",
      "Non-trainable params: 14,714,688\n",
      "_________________________________________________________________\n"
     ]
    }
   ],
   "source": [
    "model.summary()"
   ]
  },
  {
   "cell_type": "code",
   "execution_count": 189,
   "id": "70b83966",
   "metadata": {},
   "outputs": [],
   "source": [
    "from keras.layers import Dense,Flatten"
   ]
  },
  {
   "cell_type": "code",
   "execution_count": 193,
   "id": "651fdcae",
   "metadata": {},
   "outputs": [],
   "source": [
    "model.add(Flatten())\n",
    "# model.add(Dense(128,activation='relu'))\n",
    "model.add(Dense(512,activation='relu'))\n",
    "model.add(Dropout(0.2))\n",
    "model.add(Dense(7,activation='softmax'))"
   ]
  },
  {
   "cell_type": "code",
   "execution_count": 194,
   "id": "c9c4f7f4",
   "metadata": {},
   "outputs": [],
   "source": [
    "model.compile(optimizer='Adam',\n",
    "    loss='categorical_crossentropy', \n",
    "    metrics=['accuracy'])"
   ]
  },
  {
   "cell_type": "code",
   "execution_count": 195,
   "id": "4ba0a81a",
   "metadata": {},
   "outputs": [
    {
     "name": "stdout",
     "output_type": "stream",
     "text": [
      "Epoch 1/25\n"
     ]
    },
    {
     "name": "stderr",
     "output_type": "stream",
     "text": [
      "/var/folders/bq/5zg29r510_19d9cvc5d7t8ww0000gn/T/ipykernel_24349/1198837347.py:1: UserWarning: `Model.fit_generator` is deprecated and will be removed in a future version. Please use `Model.fit`, which supports generators.\n",
      "  model.fit_generator(train_generator,\n"
     ]
    },
    {
     "name": "stdout",
     "output_type": "stream",
     "text": [
      "898/898 [==============================] - 404s 450ms/step - loss: 1.6216 - accuracy: 0.3737 - val_loss: 1.5875 - val_accuracy: 0.3941\n",
      "Epoch 2/25\n",
      "898/898 [==============================] - 381s 424ms/step - loss: 1.5697 - accuracy: 0.3959 - val_loss: 1.5620 - val_accuracy: 0.4019\n",
      "Epoch 3/25\n",
      "898/898 [==============================] - 2387s 3s/step - loss: 1.5530 - accuracy: 0.3995 - val_loss: 1.5347 - val_accuracy: 0.4062\n",
      "Epoch 4/25\n",
      "898/898 [==============================] - 406s 452ms/step - loss: 1.5447 - accuracy: 0.4006 - val_loss: 1.5216 - val_accuracy: 0.4099\n",
      "Epoch 5/25\n",
      "898/898 [==============================] - 380s 423ms/step - loss: 1.5276 - accuracy: 0.4114 - val_loss: 1.5196 - val_accuracy: 0.4213\n",
      "Epoch 6/25\n",
      "898/898 [==============================] - 354s 395ms/step - loss: 1.5239 - accuracy: 0.4123 - val_loss: 1.5249 - val_accuracy: 0.4107\n",
      "Epoch 7/25\n",
      "898/898 [==============================] - 2316s 3s/step - loss: 1.5116 - accuracy: 0.4157 - val_loss: 1.5149 - val_accuracy: 0.4239\n",
      "Epoch 8/25\n",
      "898/898 [==============================] - 2474s 3s/step - loss: 1.5116 - accuracy: 0.4175 - val_loss: 1.5141 - val_accuracy: 0.4266\n",
      "Epoch 9/25\n",
      "898/898 [==============================] - 1882s 2s/step - loss: 1.5027 - accuracy: 0.4228 - val_loss: 1.5273 - val_accuracy: 0.4075\n",
      "Epoch 10/25\n",
      "898/898 [==============================] - 357s 398ms/step - loss: 1.4965 - accuracy: 0.4229 - val_loss: 1.5011 - val_accuracy: 0.4220\n",
      "Epoch 11/25\n",
      "898/898 [==============================] - 391s 436ms/step - loss: 1.4882 - accuracy: 0.4300 - val_loss: 1.5201 - val_accuracy: 0.4178\n",
      "Epoch 12/25\n",
      "898/898 [==============================] - 400s 445ms/step - loss: 1.4819 - accuracy: 0.4303 - val_loss: 1.5059 - val_accuracy: 0.4248\n",
      "Epoch 13/25\n",
      "898/898 [==============================] - 383s 427ms/step - loss: 1.4828 - accuracy: 0.4276 - val_loss: 1.5105 - val_accuracy: 0.4159\n",
      "Epoch 14/25\n",
      "898/898 [==============================] - 396s 441ms/step - loss: 1.4701 - accuracy: 0.4362 - val_loss: 1.5303 - val_accuracy: 0.4126\n",
      "Epoch 15/25\n",
      "898/898 [==============================] - 389s 433ms/step - loss: 1.4635 - accuracy: 0.4402 - val_loss: 1.5113 - val_accuracy: 0.4257\n",
      "Epoch 16/25\n",
      "898/898 [==============================] - 391s 435ms/step - loss: 1.4637 - accuracy: 0.4349 - val_loss: 1.5058 - val_accuracy: 0.4221\n",
      "Epoch 17/25\n",
      "898/898 [==============================] - 384s 428ms/step - loss: 1.4585 - accuracy: 0.4383 - val_loss: 1.4850 - val_accuracy: 0.4330\n",
      "Epoch 18/25\n",
      "898/898 [==============================] - 408s 455ms/step - loss: 1.4540 - accuracy: 0.4436 - val_loss: 1.4948 - val_accuracy: 0.4334\n",
      "Epoch 19/25\n",
      "898/898 [==============================] - 370s 412ms/step - loss: 1.4474 - accuracy: 0.4453 - val_loss: 1.5434 - val_accuracy: 0.4078\n",
      "Epoch 20/25\n",
      "898/898 [==============================] - 370s 412ms/step - loss: 1.4419 - accuracy: 0.4502 - val_loss: 1.4958 - val_accuracy: 0.4380\n",
      "Epoch 21/25\n",
      "898/898 [==============================] - 361s 402ms/step - loss: 1.4383 - accuracy: 0.4498 - val_loss: 1.5259 - val_accuracy: 0.4184\n",
      "Epoch 22/25\n",
      "898/898 [==============================] - 357s 397ms/step - loss: 1.4369 - accuracy: 0.4491 - val_loss: 1.4873 - val_accuracy: 0.4330\n",
      "Epoch 23/25\n",
      "898/898 [==============================] - 355s 395ms/step - loss: 1.4295 - accuracy: 0.4514 - val_loss: 1.4964 - val_accuracy: 0.4263\n",
      "Epoch 24/25\n",
      "898/898 [==============================] - 357s 397ms/step - loss: 1.4276 - accuracy: 0.4551 - val_loss: 1.5275 - val_accuracy: 0.4172\n",
      "Epoch 25/25\n",
      "898/898 [==============================] - 352s 392ms/step - loss: 1.4254 - accuracy: 0.4548 - val_loss: 1.5148 - val_accuracy: 0.4284\n"
     ]
    },
    {
     "data": {
      "text/plain": [
       "<keras.callbacks.History at 0x7fb4203c8040>"
      ]
     },
     "execution_count": 195,
     "metadata": {},
     "output_type": "execute_result"
    }
   ],
   "source": [
    "model.fit_generator(train_generator,\n",
    "                   epochs=25,\n",
    "                   validation_data=validation_generator\n",
    "                   )"
   ]
  },
  {
   "cell_type": "code",
   "execution_count": 196,
   "id": "2d9e3698",
   "metadata": {},
   "outputs": [],
   "source": [
    "model.save('emotion_detector_VGG_25epochs.h5')"
   ]
  },
  {
   "cell_type": "markdown",
   "id": "601a5d99",
   "metadata": {},
   "source": [
    "## CNN Model"
   ]
  },
  {
   "cell_type": "code",
   "execution_count": 78,
   "id": "ce6e1a07",
   "metadata": {},
   "outputs": [],
   "source": [
    "from keras.layers import Dropout\n",
    "from keras.layers import Conv2D,MaxPooling2D\n",
    "from matplotlib import pyplot as plt\n",
    "import numpy as np"
   ]
  },
  {
   "cell_type": "code",
   "execution_count": 117,
   "id": "fa5e803e",
   "metadata": {},
   "outputs": [
    {
     "name": "stdout",
     "output_type": "stream",
     "text": [
      "Found 28709 images belonging to 7 classes.\n",
      "Found 7178 images belonging to 7 classes.\n"
     ]
    }
   ],
   "source": [
    "batch_size=32\n",
    "train_datagen=ImageDataGenerator(\n",
    "    rescale=1/255,\n",
    "    rotation_range=30,\n",
    "    shear_range=0.3,\n",
    "    zoom_range=0.3,\n",
    "    horizontal_flip=True,\n",
    "    fill_mode='nearest'\n",
    "    )\n",
    "validation_datagen=ImageDataGenerator(rescale=1/255)\n",
    "\n",
    "train_generator=train_datagen.flow_from_directory(\n",
    "    'train',\n",
    "    color_mode='grayscale',\n",
    "    target_size=(48,48),\n",
    "    batch_size=batch_size,\n",
    "    class_mode='categorical',\n",
    "    shuffle=True)\n",
    "\n",
    "validation_generator=test_datagen.flow_from_directory(\n",
    "    'test',\n",
    "    color_mode='grayscale',\n",
    "    target_size=(48,48),\n",
    "    batch_size=batch_size,\n",
    "    class_mode='categorical',\n",
    "    shuffle=True)"
   ]
  },
  {
   "cell_type": "code",
   "execution_count": 118,
   "id": "284f0491",
   "metadata": {},
   "outputs": [],
   "source": [
    "class_labels=['Angry','Disgust','Fear','Happy','Neutral','Sad','Surprise']"
   ]
  },
  {
   "cell_type": "code",
   "execution_count": 119,
   "id": "bb3c86db",
   "metadata": {},
   "outputs": [],
   "source": [
    "img,label=train_generator.__next__()"
   ]
  },
  {
   "cell_type": "code",
   "execution_count": 120,
   "id": "7b7d1986",
   "metadata": {},
   "outputs": [],
   "source": [
    "import random"
   ]
  },
  {
   "cell_type": "code",
   "execution_count": 121,
   "id": "88615185",
   "metadata": {},
   "outputs": [
    {
     "data": {
      "image/png": "[encoded data removed]",
      "text/plain": [
       "<Figure size 640x480 with 1 Axes>"
      ]
     },
     "metadata": {},
     "output_type": "display_data"
    }
   ],
   "source": [
    "i=random.randint(0,(img.shape[0])-1)\n",
    "image=img[i]\n",
    "labl=class_labels[label[i].argmax()]\n",
    "plt.imshow(image[:,:,0],cmap='gray')\n",
    "plt.title(labl)\n",
    "plt.show()"
   ]
  },
  {
   "cell_type": "code",
   "execution_count": 122,
   "id": "8b9d54a9",
   "metadata": {},
   "outputs": [],
   "source": [
    "model1=Sequential()"
   ]
  },
  {
   "cell_type": "code",
   "execution_count": 123,
   "id": "23ef1cc9",
   "metadata": {},
   "outputs": [],
   "source": [
    "model1.add(Conv2D(32,kernel_size=(3,3),activation='relu',\n",
    "                input_shape=(48,48,1)))\n",
    "model1.add(Conv2D(64,kernel_size=(3,3),activation='relu'))\n",
    "model1.add(MaxPooling2D(pool_size=(2,2)))\n",
    "model1.add(Dropout(0.1))\n",
    "\n",
    "model1.add(Conv2D(128,kernel_size=(3,3),activation='relu'))\n",
    "model1.add(MaxPooling2D(pool_size=(2,2)))\n",
    "model1.add(Dropout(0.1))\n",
    "\n",
    "model1.add(Conv2D(256,kernel_size=(3,3),activation='relu'))\n",
    "model1.add(MaxPooling2D(pool_size=(2,2)))\n",
    "model1.add(Dropout(0.1))\n",
    "\n",
    "model1.add(Conv2D(256,kernel_size=(3,3),activation='relu'))\n",
    "model1.add(MaxPooling2D(pool_size=(2,2)))\n",
    "model1.add(Dropout(0.2))\n",
    "\n",
    "model1.add(Flatten())\n",
    "model1.add(Dense(512,activation='relu'))\n",
    "model1.add(Dropout(0.2))\n",
    "\n",
    "model1.add(Dense(7,activation='softmax'))\n"
   ]
  },
  {
   "cell_type": "code",
   "execution_count": 124,
   "id": "102c8a07",
   "metadata": {},
   "outputs": [],
   "source": [
    "model1.compile(optimizer='adam',loss='categorical_crossentropy',\n",
    "             metrics=['accuracy'])"
   ]
  },
  {
   "cell_type": "code",
   "execution_count": 125,
   "id": "373184c8",
   "metadata": {},
   "outputs": [
    {
     "name": "stdout",
     "output_type": "stream",
     "text": [
      "Model: \"sequential_7\"\n",
      "_________________________________________________________________\n",
      " Layer (type)                Output Shape              Param #   \n",
      "=================================================================\n",
      " conv2d_16 (Conv2D)          (None, 46, 46, 32)        320       \n",
      "                                                                 \n",
      " conv2d_17 (Conv2D)          (None, 44, 44, 64)        18496     \n",
      "                                                                 \n",
      " max_pooling2d_12 (MaxPoolin  (None, 22, 22, 64)       0         \n",
      " g2D)                                                            \n",
      "                                                                 \n",
      " dropout_16 (Dropout)        (None, 22, 22, 64)        0         \n",
      "                                                                 \n",
      " conv2d_18 (Conv2D)          (None, 20, 20, 128)       73856     \n",
      "                                                                 \n",
      " max_pooling2d_13 (MaxPoolin  (None, 10, 10, 128)      0         \n",
      " g2D)                                                            \n",
      "                                                                 \n",
      " dropout_17 (Dropout)        (None, 10, 10, 128)       0         \n",
      "                                                                 \n",
      " conv2d_19 (Conv2D)          (None, 8, 8, 256)         295168    \n",
      "                                                                 \n",
      " max_pooling2d_14 (MaxPoolin  (None, 4, 4, 256)        0         \n",
      " g2D)                                                            \n",
      "                                                                 \n",
      " dropout_18 (Dropout)        (None, 4, 4, 256)         0         \n",
      "                                                                 \n",
      " flatten_8 (Flatten)         (None, 4096)              0         \n",
      "                                                                 \n",
      " dense_20 (Dense)            (None, 512)               2097664   \n",
      "                                                                 \n",
      " dropout_19 (Dropout)        (None, 512)               0         \n",
      "                                                                 \n",
      " dense_21 (Dense)            (None, 7)                 3591      \n",
      "                                                                 \n",
      "=================================================================\n",
      "Total params: 2,489,095\n",
      "Trainable params: 2,489,095\n",
      "Non-trainable params: 0\n",
      "_________________________________________________________________\n"
     ]
    }
   ],
   "source": [
    "model1.summary()"
   ]
  },
  {
   "cell_type": "code",
   "execution_count": 126,
   "id": "2bf28b72",
   "metadata": {},
   "outputs": [
    {
     "name": "stdout",
     "output_type": "stream",
     "text": [
      "Epoch 1/50\n",
      "898/898 [==============================] - 139s 154ms/step - loss: 1.7716 - accuracy: 0.2693 - val_loss: 1.6615 - val_accuracy: 0.3270\n",
      "Epoch 2/50\n",
      "898/898 [==============================] - 137s 153ms/step - loss: 1.6599 - accuracy: 0.3394 - val_loss: 1.4779 - val_accuracy: 0.4302\n",
      "Epoch 3/50\n",
      "898/898 [==============================] - 137s 152ms/step - loss: 1.5110 - accuracy: 0.4095 - val_loss: 1.3527 - val_accuracy: 0.4707\n",
      "Epoch 4/50\n",
      "898/898 [==============================] - 137s 153ms/step - loss: 1.4316 - accuracy: 0.4472 - val_loss: 1.2733 - val_accuracy: 0.5138\n",
      "Epoch 5/50\n",
      "898/898 [==============================] - 136s 152ms/step - loss: 1.3793 - accuracy: 0.4709 - val_loss: 1.2339 - val_accuracy: 0.5287\n",
      "Epoch 6/50\n",
      "898/898 [==============================] - 137s 153ms/step - loss: 1.3346 - accuracy: 0.4896 - val_loss: 1.2032 - val_accuracy: 0.5412\n",
      "Epoch 7/50\n",
      "898/898 [==============================] - 137s 153ms/step - loss: 1.3087 - accuracy: 0.4992 - val_loss: 1.2133 - val_accuracy: 0.5435\n",
      "Epoch 8/50\n",
      "898/898 [==============================] - 138s 153ms/step - loss: 1.2795 - accuracy: 0.5121 - val_loss: 1.1580 - val_accuracy: 0.5602\n",
      "Epoch 9/50\n",
      "898/898 [==============================] - 1105s 1s/step - loss: 1.2682 - accuracy: 0.5190 - val_loss: 1.1748 - val_accuracy: 0.5479\n",
      "Epoch 10/50\n",
      "898/898 [==============================] - 1702s 2s/step - loss: 1.2521 - accuracy: 0.5238 - val_loss: 1.1403 - val_accuracy: 0.5632\n",
      "Epoch 11/50\n",
      "898/898 [==============================] - 1147s 1s/step - loss: 1.2389 - accuracy: 0.5285 - val_loss: 1.1097 - val_accuracy: 0.5754\n",
      "Epoch 12/50\n",
      "898/898 [==============================] - 142s 158ms/step - loss: 1.2219 - accuracy: 0.5374 - val_loss: 1.1587 - val_accuracy: 0.5588\n",
      "Epoch 13/50\n",
      "898/898 [==============================] - 146s 163ms/step - loss: 1.2168 - accuracy: 0.5388 - val_loss: 1.1168 - val_accuracy: 0.5811\n",
      "Epoch 14/50\n",
      "898/898 [==============================] - 1134s 1s/step - loss: 1.2129 - accuracy: 0.5412 - val_loss: 1.1206 - val_accuracy: 0.5698\n",
      "Epoch 15/50\n",
      "898/898 [==============================] - 136s 152ms/step - loss: 1.1994 - accuracy: 0.5436 - val_loss: 1.1345 - val_accuracy: 0.5724\n",
      "Epoch 16/50\n",
      "898/898 [==============================] - 2093s 2s/step - loss: 1.1891 - accuracy: 0.5506 - val_loss: 1.1030 - val_accuracy: 0.5777\n",
      "Epoch 17/50\n",
      "898/898 [==============================] - 1092s 1s/step - loss: 1.1877 - accuracy: 0.5490 - val_loss: 1.1338 - val_accuracy: 0.5695\n",
      "Epoch 18/50\n",
      "898/898 [==============================] - 1051s 1s/step - loss: 1.1723 - accuracy: 0.5543 - val_loss: 1.0798 - val_accuracy: 0.5929\n",
      "Epoch 19/50\n",
      "898/898 [==============================] - 141s 157ms/step - loss: 1.1717 - accuracy: 0.5551 - val_loss: 1.0812 - val_accuracy: 0.5921\n",
      "Epoch 20/50\n",
      "898/898 [==============================] - 145s 161ms/step - loss: 1.1624 - accuracy: 0.5588 - val_loss: 1.0766 - val_accuracy: 0.5956\n",
      "Epoch 21/50\n",
      "898/898 [==============================] - 1139s 1s/step - loss: 1.1645 - accuracy: 0.5594 - val_loss: 1.0864 - val_accuracy: 0.5908\n",
      "Epoch 22/50\n",
      "898/898 [==============================] - 1048s 1s/step - loss: 1.1553 - accuracy: 0.5622 - val_loss: 1.0852 - val_accuracy: 0.5839\n",
      "Epoch 23/50\n",
      "898/898 [==============================] - 1102s 1s/step - loss: 1.1491 - accuracy: 0.5636 - val_loss: 1.1216 - val_accuracy: 0.5751\n",
      "Epoch 24/50\n",
      "898/898 [==============================] - 136s 152ms/step - loss: 1.1505 - accuracy: 0.5621 - val_loss: 1.1112 - val_accuracy: 0.5875\n",
      "Epoch 25/50\n",
      "898/898 [==============================] - 144s 160ms/step - loss: 1.1433 - accuracy: 0.5657 - val_loss: 1.0821 - val_accuracy: 0.5932\n",
      "Epoch 26/50\n",
      "898/898 [==============================] - 1114s 1s/step - loss: 1.1449 - accuracy: 0.5647 - val_loss: 1.0787 - val_accuracy: 0.5915\n",
      "Epoch 27/50\n",
      "898/898 [==============================] - 1127s 1s/step - loss: 1.1384 - accuracy: 0.5704 - val_loss: 1.0623 - val_accuracy: 0.5945\n",
      "Epoch 28/50\n",
      "898/898 [==============================] - 2076s 2s/step - loss: 1.1307 - accuracy: 0.5699 - val_loss: 1.0803 - val_accuracy: 0.5896\n",
      "Epoch 29/50\n",
      "898/898 [==============================] - 2005s 2s/step - loss: 1.1271 - accuracy: 0.5712 - val_loss: 1.0535 - val_accuracy: 0.6003\n",
      "Epoch 30/50\n",
      "898/898 [==============================] - 134s 149ms/step - loss: 1.1276 - accuracy: 0.5750 - val_loss: 1.0531 - val_accuracy: 0.6002\n",
      "Epoch 31/50\n",
      "898/898 [==============================] - 141s 157ms/step - loss: 1.1224 - accuracy: 0.5743 - val_loss: 1.0661 - val_accuracy: 0.5999\n",
      "Epoch 32/50\n",
      "898/898 [==============================] - 144s 161ms/step - loss: 1.1253 - accuracy: 0.5756 - val_loss: 1.0607 - val_accuracy: 0.5968\n",
      "Epoch 33/50\n",
      "898/898 [==============================] - 1076s 1s/step - loss: 1.1145 - accuracy: 0.5775 - val_loss: 1.0466 - val_accuracy: 0.6070\n",
      "Epoch 34/50\n",
      "898/898 [==============================] - 1956s 2s/step - loss: 1.1178 - accuracy: 0.5788 - val_loss: 1.0626 - val_accuracy: 0.5981\n",
      "Epoch 35/50\n",
      "898/898 [==============================] - 2082s 2s/step - loss: 1.1110 - accuracy: 0.5799 - val_loss: 1.0472 - val_accuracy: 0.6028\n",
      "Epoch 36/50\n",
      "898/898 [==============================] - 137s 152ms/step - loss: 1.1151 - accuracy: 0.5772 - val_loss: 1.0487 - val_accuracy: 0.6041\n",
      "Epoch 37/50\n",
      "898/898 [==============================] - 142s 158ms/step - loss: 1.1021 - accuracy: 0.5821 - val_loss: 1.0446 - val_accuracy: 0.6060\n",
      "Epoch 38/50\n",
      "898/898 [==============================] - 145s 161ms/step - loss: 1.1073 - accuracy: 0.5832 - val_loss: 1.0435 - val_accuracy: 0.6102\n",
      "Epoch 39/50\n",
      "898/898 [==============================] - 2077s 2s/step - loss: 1.0972 - accuracy: 0.5848 - val_loss: 1.0476 - val_accuracy: 0.6071\n",
      "Epoch 40/50\n",
      "898/898 [==============================] - 137s 152ms/step - loss: 1.1007 - accuracy: 0.5795 - val_loss: 1.0470 - val_accuracy: 0.6046\n",
      "Epoch 41/50\n",
      "898/898 [==============================] - 1042s 1s/step - loss: 1.0861 - accuracy: 0.5873 - val_loss: 1.0532 - val_accuracy: 0.6084\n",
      "Epoch 42/50\n",
      "898/898 [==============================] - 1159s 1s/step - loss: 1.0993 - accuracy: 0.5808 - val_loss: 1.0590 - val_accuracy: 0.5977\n",
      "Epoch 43/50\n",
      "898/898 [==============================] - 1957s 2s/step - loss: 1.0942 - accuracy: 0.5848 - val_loss: 1.0499 - val_accuracy: 0.6050\n",
      "Epoch 44/50\n",
      "898/898 [==============================] - 1155s 1s/step - loss: 1.0900 - accuracy: 0.5856 - val_loss: 1.0579 - val_accuracy: 0.6035\n",
      "Epoch 45/50\n",
      "898/898 [==============================] - 136s 151ms/step - loss: 1.0923 - accuracy: 0.5853 - val_loss: 1.0431 - val_accuracy: 0.6085\n",
      "Epoch 46/50\n",
      "898/898 [==============================] - 142s 158ms/step - loss: 1.0812 - accuracy: 0.5907 - val_loss: 1.0449 - val_accuracy: 0.6045\n",
      "Epoch 47/50\n",
      "898/898 [==============================] - 144s 161ms/step - loss: 1.0793 - accuracy: 0.5915 - val_loss: 1.0544 - val_accuracy: 0.5999\n",
      "Epoch 48/50\n",
      "898/898 [==============================] - 812s 905ms/step - loss: 1.0752 - accuracy: 0.5917 - val_loss: 1.0535 - val_accuracy: 0.6050\n",
      "Epoch 49/50\n",
      "898/898 [==============================] - 137s 152ms/step - loss: 1.0832 - accuracy: 0.5918 - val_loss: 1.0504 - val_accuracy: 0.6149\n",
      "Epoch 50/50\n",
      "898/898 [==============================] - 137s 153ms/step - loss: 1.0748 - accuracy: 0.5927 - val_loss: 1.0652 - val_accuracy: 0.6049\n"
     ]
    }
   ],
   "source": [
    "history=model1.fit(train_generator,\n",
    "                   epochs=50,\n",
    "                   validation_data=validation_generator\n",
    "                   )"
   ]
  },
  {
   "cell_type": "code",
   "execution_count": 129,
   "id": "fe8928ab",
   "metadata": {},
   "outputs": [],
   "source": [
    "# model1.save('Emotion_Detection_CNN_50epochs.h5')"
   ]
  },
  {
   "cell_type": "code",
   "execution_count": 131,
   "id": "86c4a58c",
   "metadata": {},
   "outputs": [],
   "source": [
    "from keras.models import load_model"
   ]
  },
  {
   "cell_type": "code",
   "execution_count": 132,
   "id": "1bd85e54",
   "metadata": {},
   "outputs": [],
   "source": [
    "my_model=load_model('Emotion_Detection_CNN_50epochs.h5',compile=False)"
   ]
  },
  {
   "cell_type": "code",
   "execution_count": 162,
   "id": "a54bbedd",
   "metadata": {},
   "outputs": [],
   "source": [
    "test_img,test_lbl=validation_generator.__next__()"
   ]
  },
  {
   "cell_type": "code",
   "execution_count": 163,
   "id": "8e5b0972",
   "metadata": {},
   "outputs": [
    {
     "data": {
      "text/plain": [
       "32"
      ]
     },
     "execution_count": 163,
     "metadata": {},
     "output_type": "execute_result"
    }
   ],
   "source": [
    "len(test_img)"
   ]
  },
  {
   "cell_type": "code",
   "execution_count": 164,
   "id": "2747f710",
   "metadata": {},
   "outputs": [
    {
     "name": "stdout",
     "output_type": "stream",
     "text": [
      "1/1 [==============================] - 0s 74ms/step\n"
     ]
    }
   ],
   "source": [
    "predictions=my_model.predict(test_img)"
   ]
  },
  {
   "cell_type": "code",
   "execution_count": 165,
   "id": "e3f65dcc",
   "metadata": {},
   "outputs": [],
   "source": [
    "predictions=np.argmax(predictions,axis=1)\n",
    "test_lables=np.argmax(test_lbl,axis=1)"
   ]
  },
  {
   "cell_type": "code",
   "execution_count": 166,
   "id": "f980c1ec",
   "metadata": {},
   "outputs": [
    {
     "data": {
      "text/plain": [
       "32"
      ]
     },
     "execution_count": 166,
     "metadata": {},
     "output_type": "execute_result"
    }
   ],
   "source": [
    "len(predictions)"
   ]
  },
  {
   "cell_type": "code",
   "execution_count": 167,
   "id": "0e61ebc9",
   "metadata": {},
   "outputs": [],
   "source": [
    "from sklearn import metrics\n",
    "import seaborn as sns"
   ]
  },
  {
   "cell_type": "code",
   "execution_count": 168,
   "id": "f0609bad",
   "metadata": {},
   "outputs": [
    {
     "name": "stdout",
     "output_type": "stream",
     "text": [
      "Accuracy= 0.59375\n"
     ]
    }
   ],
   "source": [
    "print('Accuracy=',metrics.accuracy_score(test_lables,predictions))"
   ]
  },
  {
   "cell_type": "code",
   "execution_count": 169,
   "id": "e7268220",
   "metadata": {},
   "outputs": [],
   "source": [
    "from sklearn.metrics import confusion_matrix"
   ]
  },
  {
   "cell_type": "code",
   "execution_count": 170,
   "id": "a506c24a",
   "metadata": {},
   "outputs": [
    {
     "data": {
      "text/plain": [
       "<Axes: >"
      ]
     },
     "execution_count": 170,
     "metadata": {},
     "output_type": "execute_result"
    },
    {
     "data": {
      "image/png": "[encoded data removed]",
      "text/plain": [
       "<Figure size 640x480 with 2 Axes>"
      ]
     },
     "metadata": {},
     "output_type": "display_data"
    }
   ],
   "source": [
    "cm=confusion_matrix(test_lables,predictions)\n",
    "sns.heatmap(cm,annot=True) "
   ]
  },
  {
   "cell_type": "code",
   "execution_count": 171,
   "id": "6befc3f2",
   "metadata": {},
   "outputs": [],
   "source": [
    "class_labels=['Angry','Disgust','Fear','Happy','Neutral','Sad','Surprise']"
   ]
  },
  {
   "cell_type": "markdown",
   "id": "6261b246",
   "metadata": {},
   "source": [
    "## Predictions"
   ]
  },
  {
   "cell_type": "code",
   "execution_count": 175,
   "id": "a82c19c6",
   "metadata": {},
   "outputs": [
    {
     "data": {
      "image/png": "[encoded data removed]",
      "text/plain": [
       "<Figure size 640x480 with 1 Axes>"
      ]
     },
     "metadata": {},
     "output_type": "display_data"
    }
   ],
   "source": [
    "n=random.randint(0,test_img.shape[0]-1)\n",
    "image=test_img[n]\n",
    "orig_labl=class_labels[test_lables[n]]\n",
    "pred_labl=class_labels[predictions[n]]\n",
    "plt.imshow(image[:,:,0],cmap='gray')\n",
    "plt.title('Original label is:'+orig_labl+'Prediction is:'+pred_labl)\n",
    "plt.show()"
   ]
  },
  {
   "cell_type": "code",
   "execution_count": 178,
   "id": "5603f0b9",
   "metadata": {},
   "outputs": [
    {
     "data": {
      "image/png": "[encoded data removed]",
      "text/plain": [
       "<Figure size 640x480 with 1 Axes>"
      ]
     },
     "metadata": {},
     "output_type": "display_data"
    }
   ],
   "source": [
    "n=random.randint(0,test_img.shape[0]-1)\n",
    "image=test_img[n]\n",
    "orig_labl=class_labels[test_lables[n]]\n",
    "pred_labl=class_labels[predictions[n]]\n",
    "plt.imshow(image[:,:,0],cmap='gray')\n",
    "plt.title('Original label is:'+orig_labl+'Prediction is:'+pred_labl)\n",
    "plt.show()"
   ]
  }
 ],
 "metadata": {
  "kernelspec": {
   "display_name": "Python 3 (ipykernel)",
   "language": "python",
   "name": "python3"
  },
  "language_info": {
   "codemirror_mode": {
    "name": "ipython",
    "version": 3
   },
   "file_extension": ".py",
   "mimetype": "text/x-python",
   "name": "python",
   "nbconvert_exporter": "python",
   "pygments_lexer": "ipython3",
   "version": "3.9.7"
  }
 },
 "nbformat": 4,
 "nbformat_minor": 5
}
